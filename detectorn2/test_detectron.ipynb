{
 "cells": [
  {
   "cell_type": "code",
   "execution_count": 1,
   "metadata": {
    "ExecuteTime": {
     "end_time": "2020-12-27T17:21:54.873008Z",
     "start_time": "2020-12-27T17:21:54.235891Z"
    }
   },
   "outputs": [],
   "source": [
    "from detectron2.data.datasets import register_coco_instances\n",
    "register_coco_instances(\"svhn_coco_combined_train\", {}, \"./coco_format/svhn_coco_train_combined.json\", \"./coco_format/train/\")\n",
    "register_coco_instances(\"svhn_coco_combined_val\", {}, \"j./coco_format/svhn_coco_val_combined.json\", \"./coco_format/val\")"
   ]
  },
  {
   "cell_type": "code",
   "execution_count": 2,
   "metadata": {
    "ExecuteTime": {
     "end_time": "2020-12-27T17:21:58.635221Z",
     "start_time": "2020-12-27T17:21:58.256225Z"
    }
   },
   "outputs": [],
   "source": [
    "from detectron2.engine import DefaultPredictor\n",
    "from detectron2.config import get_cfg\n",
    "from detectron2 import model_zoo\n",
    "import os"
   ]
  },
  {
   "cell_type": "code",
   "execution_count": 3,
   "metadata": {
    "ExecuteTime": {
     "end_time": "2020-12-27T17:22:36.267005Z",
     "start_time": "2020-12-27T17:22:36.251111Z"
    }
   },
   "outputs": [],
   "source": [
    "cfg = get_cfg()\n",
    "cfg.merge_from_file(model_zoo.get_config_file(\"COCO-Detection/faster_rcnn_R_101_FPN_3x.yaml\"))\n",
    "cfg.DATASETS.TRAIN = (\"svhn_dataset_train\",)\n",
    "cfg.DATASETS.TEST = (\"svhn_dataset_val\")\n",
    "cfg.DATALOADER.NUM_WORKERS = 2\n",
    "# cfg.MODEL.WEIGHTS = model_zoo.get_checkpoint_url(\"COCO-Detection/faster_rcnn_R_50_C4_1x.yaml\")  # Let training initialize from model zoo\n",
    "cfg.SOLVER.IMS_PER_BATCH = 2\n",
    "cfg.SOLVER.BASE_LR = 0.00025  # pick a good LR\n",
    "cfg.SOLVER.MAX_ITER = 5000    # 300 iterations seems good enough for this toy dataset; you will need to train longer for a practical dataset\n",
    "cfg.MODEL.ROI_HEADS.BATCH_SIZE_PER_IMAGE = 128   # faster, and good enough for this toy dataset (default: 512)\n",
    "cfg.MODEL.ROI_HEADS.NUM_CLASSES = 10"
   ]
  },
  {
   "cell_type": "code",
   "execution_count": 4,
   "metadata": {
    "ExecuteTime": {
     "end_time": "2020-12-27T17:22:41.681044Z",
     "start_time": "2020-12-27T17:22:37.136896Z"
    }
   },
   "outputs": [],
   "source": [
    "cfg.MODEL.WEIGHTS = os.path.join(cfg.OUTPUT_DIR, \"model_final.pth\")  # path to the model we just trained\n",
    "cfg.MODEL.ROI_HEADS.SCORE_THRESH_TEST = 0.7   # set a custom testing threshold\n",
    "predictor = DefaultPredictor(cfg)"
   ]
  },
  {
   "cell_type": "code",
   "execution_count": 11,
   "metadata": {
    "ExecuteTime": {
     "end_time": "2020-12-27T17:23:40.382744Z",
     "start_time": "2020-12-27T17:23:40.193501Z"
    }
   },
   "outputs": [
    {
     "data": {
      "text/plain": [
       "{'instances': Instances(num_instances=2, image_height=49, image_width=100, fields=[pred_boxes: Boxes(tensor([[51.6959,  3.7460, 63.5988, 41.2600],\n",
       "         [33.9069,  4.0188, 50.5397, 40.4659]], device='cuda:0')), scores: tensor([0.9301, 0.9216], device='cuda:0'), pred_classes: tensor([1, 7], device='cuda:0')])}"
      ]
     },
     "execution_count": 11,
     "metadata": {},
     "output_type": "execute_result"
    },
    {
     "data": {
      "image/png": "[encoded data removed]",
      "text/plain": [
       "<Figure size 432x288 with 1 Axes>"
      ]
     },
     "metadata": {
      "needs_background": "light"
     },
     "output_type": "display_data"
    }
   ],
   "source": [
    "from glob import glob as glob\n",
    "import random\n",
    "from matplotlib import pyplot as plt\n",
    "import cv2\n",
    "\n",
    "test_imgs = glob('../testsvhn/*')\n",
    "test_img= cv2.imread(test_imgs[random.randint(0,len(test_imgs))])\n",
    "plt.show()\n",
    "plt.imshow(test_img)\n",
    "predictor(test_img)"
   ]
  },
  {
   "cell_type": "code",
   "execution_count": 26,
   "metadata": {
    "ExecuteTime": {
     "end_time": "2020-12-27T17:40:28.157338Z",
     "start_time": "2020-12-27T17:40:18.600199Z"
    }
   },
   "outputs": [],
   "source": [
    "from detectron2.utils.visualizer import ColorMode\n",
    "from detectron2.utils.visualizer import Visualizer\n",
    "from detectron2.data import MetadataCatalog, DatasetCatalog\n",
    "svhn_coco_combined_val_metadata = MetadataCatalog.get(\"svhn_coco_combined_val\")\n",
    "\n",
    "for index in range(0,len(test_imgs)):\n",
    "    im = cv2.imread(test_imgs[index])\n",
    "    outputs = predictor(im)\n",
    "    v = Visualizer(im[:, :, ::-1],\n",
    "                   metadata=svhn_coco_combined_val_metadata, \n",
    "                   scale=0.8\n",
    "    )\n",
    "    v = v.draw_instance_predictions(outputs[\"instances\"].to(\"cpu\"))\n",
    "    cv2.imwrite('./output/pred/'+str(index)+'.png',v.get_image()[:, :, ::-1])"
   ]
  },
  {
   "cell_type": "code",
   "execution_count": 18,
   "metadata": {
    "ExecuteTime": {
     "end_time": "2020-12-27T17:32:05.436211Z",
     "start_time": "2020-12-27T17:32:05.408941Z"
    }
   },
   "outputs": [
    {
     "data": {
      "text/plain": [
       "{'instances': Instances(num_instances=1, image_height=70, image_width=146, fields=[pred_boxes: Boxes(tensor([[69.2649, 19.2339, 87.7334, 52.2867]], device='cuda:0')), scores: tensor([0.9206], device='cuda:0'), pred_classes: tensor([9], device='cuda:0')])}"
      ]
     },
     "execution_count": 18,
     "metadata": {},
     "output_type": "execute_result"
    }
   ],
   "source": [
    "outputs"
   ]
  },
  {
   "cell_type": "code",
   "execution_count": null,
   "metadata": {},
   "outputs": [],
   "source": []
  }
 ],
 "metadata": {
  "kernelspec": {
   "display_name": "pytorch",
   "language": "python",
   "name": "pytorch"
  },
  "language_info": {
   "codemirror_mode": {
    "name": "ipython",
    "version": 3
   },
   "file_extension": ".py",
   "mimetype": "text/x-python",
   "name": "python",
   "nbconvert_exporter": "python",
   "pygments_lexer": "ipython3",
   "version": "3.8.5"
  },
  "varInspector": {
   "cols": {
    "lenName": 16,
    "lenType": 16,
    "lenVar": 40
   },
   "kernels_config": {
    "python": {
     "delete_cmd_postfix": "",
     "delete_cmd_prefix": "del ",
     "library": "var_list.py",
     "varRefreshCmd": "print(var_dic_list())"
    },
    "r": {
     "delete_cmd_postfix": ") ",
     "delete_cmd_prefix": "rm(",
     "library": "var_list.r",
     "varRefreshCmd": "cat(var_dic_list()) "
    }
   },
   "types_to_exclude": [
    "module",
    "function",
    "builtin_function_or_method",
    "instance",
    "_Feature"
   ],
   "window_display": false
  }
 },
 "nbformat": 4,
 "nbformat_minor": 4
}
