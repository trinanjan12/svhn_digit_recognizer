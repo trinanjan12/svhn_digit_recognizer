{
 "cells": [
  {
   "cell_type": "markdown",
   "metadata": {},
   "source": [
    "# Problem Statement\n",
    "\n",
    "Objective: Create a solution to read house numbers in the 100 images attached (testsvhn.zip) using deep learning/ machine learning. You can use the full SVHN dataset (http://ufldl.stanford.edu/housenumbers/) for training purposes. You can use the machine learning framework of your choice. You don't have to train models for very long - a high or low accuracy will not determine our review of your solution. You can use any existing open source implementation as well, and don't have to implement your solution from scratch, if it helps. You can also use pre-trained models as a starting point for your training, if you wish.     \n",
    "\n",
    "Please Add below Listed Execution files to be included in the test Project.\n",
    "   \"Please have a few more examples such as **test82.png, test36.png, test70.png, test10.png** for us to get a sense of his hands-on experience. If there's a new project zip he can submit taking this into consideration, would be good to get a sense of the ideas and thought process"
   ]
  },
  {
   "cell_type": "markdown",
   "metadata": {
    "ExecuteTime": {
     "end_time": "2020-12-27T19:16:20.972366Z",
     "start_time": "2020-12-27T19:16:20.969733Z"
    }
   },
   "source": [
    "# Approaches with implementation details \n",
    "\n",
    "**Please go through this repo for details of implementation**\n",
    "\n",
    "https://github.com/trinanjan12/svhn_digit_recognizer\n",
    "\n",
    "3 different approaches that I have tried to solve the problem are listed below\n",
    "\n",
    "1. Object Detection using Yolov5\n",
    "2. Object Detection using Detectron 2\n",
    "3. Multilabel Classification  \n",
    "\n",
    "## My Final Submission is Yolov5 output\n",
    "### I am attaching outputs from Yolov5 and Detectron2"
   ]
  },
  {
   "cell_type": "markdown",
   "metadata": {
    "ExecuteTime": {
     "end_time": "2020-12-27T19:18:33.105586Z",
     "start_time": "2020-12-27T19:18:33.104038Z"
    }
   },
   "source": [
    "# Sample output\n",
    "## Note :\n",
    "### I am not drawing bbox because the images are too small to draw multiple bbox\n",
    "### All The output shown below are trained on the http://ufldl.stanford.edu/housenumbers/ format 1 dataset train images\n",
    "### yolov5 without using randomrotation/flip upside augmentation was not able to detect vertically flipped images\n",
    "## so I trained yolov5 after changing the default augmentation parameter \n",
    "flipud: 0.3  # image flip up-down (probability) changed from 0 to .3<br>\n",
    "degrees: 180.0  # image rotation (+/- deg)  changed from 0 to 180<br>\n",
    "https://github.com/trinanjan12/svhn_digit_recognizer/tree/master/yolov5/hyp.scratch.yaml"
   ]
  },
  {
   "cell_type": "markdown",
   "metadata": {},
   "source": [
    "## 1. Object Detection using YOLOV5\n",
    "\n",
    "### Output of the test dataset provided\n",
    "**The first value after --> is the class predicted**\n",
    "![Output](./yolo_testdata.png)\n",
    "\n",
    "### Output of the test dataset of SVHN\n",
    "#### Good Output\n",
    "![Good Output](./yolo_svhn_good_1.png)\n",
    "![Good Output](./yolo_svhn_good_2.png)\n",
    "#### Bad Output\n",
    "![Bad Output](./yolo_svhn_bad_1.png)\n",
    "![Bad Output](./yolo_svhn_bad_2.png)\n"
   ]
  },
  {
   "cell_type": "markdown",
   "metadata": {},
   "source": [
    "## 2.Object Detection using Detectron2\n",
    "\n",
    "#### Output of the test dataset provided\n",
    "![Output](./detectron2_test.png)\n",
    "\n",
    "### Output of the test dataset of SVHN\n",
    "#### Good Output\n",
    "![Good Output](./detectron2_good.png)\n",
    "#### Bad Output\n",
    "![Bad Output](./detectron2_bad.png)\n"
   ]
  },
  {
   "cell_type": "code",
   "execution_count": null,
   "metadata": {},
   "outputs": [],
   "source": []
  }
 ],
 "metadata": {
  "kernelspec": {
   "display_name": "pytorch",
   "language": "python",
   "name": "pytorch"
  },
  "language_info": {
   "codemirror_mode": {
    "name": "ipython",
    "version": 3
   },
   "file_extension": ".py",
   "mimetype": "text/x-python",
   "name": "python",
   "nbconvert_exporter": "python",
   "pygments_lexer": "ipython3",
   "version": "3.8.5"
  },
  "varInspector": {
   "cols": {
    "lenName": 16,
    "lenType": 16,
    "lenVar": 40
   },
   "kernels_config": {
    "python": {
     "delete_cmd_postfix": "",
     "delete_cmd_prefix": "del ",
     "library": "var_list.py",
     "varRefreshCmd": "print(var_dic_list())"
    },
    "r": {
     "delete_cmd_postfix": ") ",
     "delete_cmd_prefix": "rm(",
     "library": "var_list.r",
     "varRefreshCmd": "cat(var_dic_list()) "
    }
   },
   "types_to_exclude": [
    "module",
    "function",
    "builtin_function_or_method",
    "instance",
    "_Feature"
   ],
   "window_display": false
  }
 },
 "nbformat": 4,
 "nbformat_minor": 4
}
