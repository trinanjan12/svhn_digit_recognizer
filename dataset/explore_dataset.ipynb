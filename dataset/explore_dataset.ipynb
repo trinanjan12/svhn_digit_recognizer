{
 "cells": [
  {
   "cell_type": "markdown",
   "metadata": {},
   "source": [
    "credits https://www.vitaarca.net/post/tech/access_svhn_data_in_python/"
   ]
  },
  {
   "cell_type": "code",
   "execution_count": 25,
   "metadata": {
    "ExecuteTime": {
     "end_time": "2020-12-27T16:32:27.417551Z",
     "start_time": "2020-12-27T16:32:27.411854Z"
    }
   },
   "outputs": [],
   "source": [
    "\n",
    "\"\"\"\n",
    "    This file extracts data from svhn dataset \n",
    "    creates annotation files in the format shown below\n",
    "\n",
    "{'1.png': {'height': [219, 219],\n",
    "  'left': [246, 323],\n",
    "  'top': [77, 81],\n",
    "  'width': [81, 96],\n",
    "  'label': [1, 9]},\n",
    " '2.png': {'height': [32, 32],\n",
    "  'left': [77, 98],\n",
    "  'top': [29, 25],\n",
    "  'width': [23, 26],\n",
    "  'label': [2, 3]} }\n",
    "}\n",
    "\"\"\""
   ]
  },
  {
   "cell_type": "code",
   "execution_count": 2,
   "metadata": {
    "ExecuteTime": {
     "end_time": "2020-12-27T16:06:17.752711Z",
     "start_time": "2020-12-27T16:06:17.736003Z"
    }
   },
   "outputs": [],
   "source": [
    "from glob import glob as glob\n",
    "import h5py\n",
    "import numpy as np\n",
    "import os\n",
    "from tqdm import tqdm as tqdm"
   ]
  },
  {
   "cell_type": "code",
   "execution_count": 7,
   "metadata": {
    "ExecuteTime": {
     "end_time": "2020-12-27T16:08:03.342735Z",
     "start_time": "2020-12-27T16:08:02.991986Z"
    }
   },
   "outputs": [
    {
     "name": "stdout",
     "output_type": "stream",
     "text": [
      "total number of train images are ------: 33404\n",
      "total number of test images are ------: 13070\n",
      "total number of extra images are ------: 202355\n"
     ]
    }
   ],
   "source": [
    "data_dir = './'\n",
    "train_imgs = glob(data_dir + 'train/*')\n",
    "test_imgs = glob(data_dir + 'test/*')\n",
    "extra_imgs = glob(data_dir + 'extra/*')\n",
    "print(f'total number of train images are ------: {len(train_imgs)}')\n",
    "print(f'total number of test images are ------: {len(test_imgs)}')\n",
    "print(f'total number of extra images are ------: {len(extra_imgs)}')\n",
    "mode = 'extra'\n",
    "anno_filename = os.path.join(data_dir, mode , 'digitStruct.mat')\n",
    "anno_file_data = h5py.File(anno_filename,'r')"
   ]
  },
  {
   "cell_type": "code",
   "execution_count": 8,
   "metadata": {
    "ExecuteTime": {
     "end_time": "2020-12-27T16:08:03.863202Z",
     "start_time": "2020-12-27T16:08:03.846421Z"
    }
   },
   "outputs": [
    {
     "name": "stdout",
     "output_type": "stream",
     "text": [
      "annotation file structure ------ <HDF5 dataset \"name\": shape (202353, 1), type \"|O\"> <HDF5 dataset \"bbox\": shape (202353, 1), type \"|O\">\n",
      "exampple annotations file ----- [[ 49]\n",
      " [ 46]\n",
      " [112]\n",
      " [110]\n",
      " [103]]\n"
     ]
    }
   ],
   "source": [
    "anno_file_data.keys(),anno_file_data['digitStruct'].keys()\n",
    "\n",
    "names = anno_file_data['digitStruct/name']\n",
    "bboxs = anno_file_data['digitStruct/bbox']\n",
    "print('annotation file structure ------', names,bboxs)\n",
    "print('exampple annotations file -----',anno_file_data[names[0][0]][()])"
   ]
  },
  {
   "cell_type": "code",
   "execution_count": 9,
   "metadata": {
    "ExecuteTime": {
     "end_time": "2020-12-27T16:08:23.396180Z",
     "start_time": "2020-12-27T16:08:23.374183Z"
    }
   },
   "outputs": [],
   "source": [
    "# helper function to decode the mat annotation file\n",
    "bbox_prop = ['height', 'left', 'top', 'width', 'label']\n",
    "def get_img_boxes(f, idx=0):\n",
    "    \"\"\"\n",
    "    get the 'height', 'left', 'top', 'width', 'label' of bounding boxes of an image\n",
    "    :param f: h5py.File\n",
    "    :param idx: index of the image\n",
    "    :return: dictionary\n",
    "    \"\"\"\n",
    "    meta = { key : [] for key in bbox_prop}\n",
    "\n",
    "    box = f[bboxs[idx][0]]\n",
    "    for key in box.keys():\n",
    "        if box[key].shape[0] == 1:\n",
    "            meta[key].append(int(box[key][0][0]))\n",
    "        else:\n",
    "            for i in range(box[key].shape[0]):\n",
    "                meta[key].append(int(f[box[key][i][0]][()].item()))\n",
    "\n",
    "    return meta\n",
    "def get_img_name(f, idx=0):\n",
    "    img_name = ''.join(map(chr, f[names[idx][0]][()].flatten()))\n",
    "    return(img_name)"
   ]
  },
  {
   "cell_type": "code",
   "execution_count": 12,
   "metadata": {
    "ExecuteTime": {
     "end_time": "2020-12-27T16:08:52.654532Z",
     "start_time": "2020-12-27T16:08:52.518103Z"
    }
   },
   "outputs": [
    {
     "name": "stdout",
     "output_type": "stream",
     "text": [
      "img_name and img_bbox  117665.png {'height': [30, 30], 'left': [0, 17], 'top': [5, 4], 'width': [12, 14], 'label': [3, 1]}\n"
     ]
    },
    {
     "data": {
      "text/plain": [
       "<matplotlib.image.AxesImage at 0x7f04b9e9ed00>"
      ]
     },
     "execution_count": 12,
     "metadata": {},
     "output_type": "execute_result"
    },
    {
     "data": {
      "image/png": "[encoded data removed]",
      "text/plain": [
       "<Figure size 432x288 with 1 Axes>"
      ]
     },
     "metadata": {
      "needs_background": "light"
     },
     "output_type": "display_data"
    }
   ],
   "source": [
    "import random\n",
    "idx = random.randint(0, anno_file_data['digitStruct/name'].shape[0] - 1)\n",
    "img_name , img_bbox = get_img_name(anno_file_data, idx), get_img_boxes(anno_file_data, idx)\n",
    "print('img_name and img_bbox ',img_name , img_bbox)\n",
    "\n",
    "from PIL import Image,ImageDraw\n",
    "from matplotlib import pyplot as plt\n",
    "img_file = data_dir + mode + '/' + img_name\n",
    "img = Image.open(img_file)\n",
    "plt.imshow(img)"
   ]
  },
  {
   "cell_type": "code",
   "execution_count": 13,
   "metadata": {
    "ExecuteTime": {
     "end_time": "2020-12-27T16:08:53.185012Z",
     "start_time": "2020-12-27T16:08:53.089880Z"
    }
   },
   "outputs": [
    {
     "data": {
      "text/plain": [
       "<matplotlib.image.AxesImage at 0x7f04b9e89b80>"
      ]
     },
     "execution_count": 13,
     "metadata": {},
     "output_type": "execute_result"
    },
    {
     "data": {
      "image/png": "[encoded data removed]",
      "text/plain": [
       "<Figure size 432x288 with 1 Axes>"
      ]
     },
     "metadata": {
      "needs_background": "light"
     },
     "output_type": "display_data"
    }
   ],
   "source": [
    "label_colours = [(0, 0, 0), (128, 0, 0), (255, 0, 0), (0, 85, 0), (170, 0, 51),\n",
    "                 (255, 85, 0), (0, 0, 85), (0, 119, 221), (85, 85, 0),\n",
    "                 (0, 85, 85), (85, 51, 0), (52, 86, 128), (0, 128, 0),\n",
    "                 (0, 0, 255), (51, 170, 221), (0, 255, 255), (85, 255, 170),\n",
    "                 (170, 255, 85), (255, 255, 0), (255, 170, 0)]\n",
    "for i in range(0, len(img_bbox['label'])):\n",
    "    draw = ImageDraw.Draw(img)\n",
    "    x0, y0, x1, y1 = img_bbox['left'][i], img_bbox['top'][i], img_bbox['left'][\n",
    "        i] + img_bbox['width'][i], img_bbox['top'][i] + img_bbox['height'][i]\n",
    "    draw.rectangle(((x0, y0), (x1, y1)), outline=label_colours[random.randint(0, len(label_colours) - 1)])\n",
    "plt.show()\n",
    "plt.imshow(img)"
   ]
  },
  {
   "cell_type": "code",
   "execution_count": 14,
   "metadata": {
    "ExecuteTime": {
     "end_time": "2020-12-27T16:08:58.075909Z",
     "start_time": "2020-12-27T16:08:57.907055Z"
    }
   },
   "outputs": [
    {
     "name": "stdout",
     "output_type": "stream",
     "text": [
      "16537\n",
      "img_name and img_bbox  16538.png {'height': [39, 39], 'left': [8, 30], 'top': [10, 12], 'width': [17, 24], 'label': [1, 8]}\n"
     ]
    },
    {
     "data": {
      "text/plain": [
       "<matplotlib.image.AxesImage at 0x7f04b9de27f0>"
      ]
     },
     "execution_count": 14,
     "metadata": {},
     "output_type": "execute_result"
    },
    {
     "data": {
      "image/png": "[encoded data removed]",
      "text/plain": [
       "<Figure size 432x288 with 1 Axes>"
      ]
     },
     "metadata": {
      "needs_background": "light"
     },
     "output_type": "display_data"
    }
   ],
   "source": [
    "# given a train image load it's annotations\n",
    "img_name_temp = train_imgs[0]\n",
    "index = int(os.path.basename(img_name_temp).split('.')[0])\n",
    "print(index)\n",
    "img_name , img_bbox = get_img_name(anno_file_data, index), get_img_boxes(anno_file_data, index)\n",
    "print('img_name and img_bbox ',img_name , img_bbox)\n",
    "\n",
    "from PIL import Image,ImageDraw\n",
    "from matplotlib import pyplot as plt\n",
    "img_file = data_dir + mode + '/' + img_name\n",
    "img = Image.open(img_file)\n",
    "plt.imshow(img)"
   ]
  },
  {
   "cell_type": "code",
   "execution_count": 60,
   "metadata": {
    "ExecuteTime": {
     "end_time": "2020-12-26T16:14:54.591825Z",
     "start_time": "2020-12-26T15:54:50.197322Z"
    }
   },
   "outputs": [
    {
     "name": "stderr",
     "output_type": "stream",
     "text": [
      "100%|██████████| 202353/202353 [20:04<00:00, 168.02it/s]\n"
     ]
    }
   ],
   "source": [
    "total_num_file = anno_file_data['digitStruct/name'].shape[0]\n",
    "annotations = {}\n",
    "for index in tqdm(range(total_num_file)):\n",
    "    img_name , img_bbox = get_img_name(anno_file_data, index), get_img_boxes(anno_file_data, index)\n",
    "    \n",
    "    # the svhn dataset assigns the class label \"10\" to the digit 0\n",
    "    # this makes it inconsistent with several loss functions\n",
    "    # which expect the class labels to be in the range [0, C-1]\n",
    "    for i,v in enumerate(img_bbox['label']):\n",
    "        if v == 10:\n",
    "            img_bbox['label'][i] = 0\n",
    "    annotations[img_name] = img_bbox"
   ]
  },
  {
   "cell_type": "code",
   "execution_count": null,
   "metadata": {
    "ExecuteTime": {
     "end_time": "2020-12-26T11:48:24.821337Z",
     "start_time": "2020-12-26T11:48:24.634875Z"
    }
   },
   "outputs": [],
   "source": [
    "annotations"
   ]
  },
  {
   "cell_type": "code",
   "execution_count": 61,
   "metadata": {
    "ExecuteTime": {
     "end_time": "2020-12-26T16:16:39.479900Z",
     "start_time": "2020-12-26T16:16:39.100597Z"
    }
   },
   "outputs": [],
   "source": [
    "import pickle\n",
    "with open('./combined_annotations_processed' , 'wb') as f:\n",
    "    pickle.dump(annotations,f)"
   ]
  },
  {
   "cell_type": "code",
   "execution_count": 17,
   "metadata": {
    "ExecuteTime": {
     "end_time": "2020-12-27T16:29:06.666424Z",
     "start_time": "2020-12-27T16:29:05.837976Z"
    }
   },
   "outputs": [],
   "source": [
    "# import pickle\n",
    "# with open('./combined_annotations_processed.pkl' , 'rb') as f:\n",
    "#     annotations = pickle.load(f)"
   ]
  },
  {
   "cell_type": "code",
   "execution_count": null,
   "metadata": {},
   "outputs": [],
   "source": []
  }
 ],
 "metadata": {
  "kernelspec": {
   "display_name": "pytorch",
   "language": "python",
   "name": "pytorch"
  },
  "language_info": {
   "codemirror_mode": {
    "name": "ipython",
    "version": 3
   },
   "file_extension": ".py",
   "mimetype": "text/x-python",
   "name": "python",
   "nbconvert_exporter": "python",
   "pygments_lexer": "ipython3",
   "version": "3.8.5"
  },
  "varInspector": {
   "cols": {
    "lenName": 16,
    "lenType": 16,
    "lenVar": 40
   },
   "kernels_config": {
    "python": {
     "delete_cmd_postfix": "",
     "delete_cmd_prefix": "del ",
     "library": "var_list.py",
     "varRefreshCmd": "print(var_dic_list())"
    },
    "r": {
     "delete_cmd_postfix": ") ",
     "delete_cmd_prefix": "rm(",
     "library": "var_list.r",
     "varRefreshCmd": "cat(var_dic_list()) "
    }
   },
   "types_to_exclude": [
    "module",
    "function",
    "builtin_function_or_method",
    "instance",
    "_Feature"
   ],
   "window_display": false
  }
 },
 "nbformat": 4,
 "nbformat_minor": 4
}
